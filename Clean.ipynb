{
 "cells": [
  {
   "cell_type": "code",
   "execution_count": 6,
   "id": "9223bfde-cf86-4dc4-b4e1-b93a22c83f1b",
   "metadata": {},
   "outputs": [],
   "source": [
    "import numpy as np\n",
    "import pandas as pd\n",
    "import datetime as dt"
   ]
  },
  {
   "cell_type": "code",
   "execution_count": 7,
   "id": "69beb7e6-fa9f-4671-ae49-438160c4a310",
   "metadata": {},
   "outputs": [
    {
     "data": {
      "text/html": [
       "<div>\n",
       "<style scoped>\n",
       "    .dataframe tbody tr th:only-of-type {\n",
       "        vertical-align: middle;\n",
       "    }\n",
       "\n",
       "    .dataframe tbody tr th {\n",
       "        vertical-align: top;\n",
       "    }\n",
       "\n",
       "    .dataframe thead th {\n",
       "        text-align: right;\n",
       "    }\n",
       "</style>\n",
       "<table border=\"1\" class=\"dataframe\">\n",
       "  <thead>\n",
       "    <tr style=\"text-align: right;\">\n",
       "      <th></th>\n",
       "      <th>Fecha</th>\n",
       "      <th>Nombre_Material</th>\n",
       "      <th>Cantidad_kg</th>\n",
       "      <th>Nombre_Categoria</th>\n",
       "      <th>Operador_logistíco</th>\n",
       "      <th>Sede</th>\n",
       "    </tr>\n",
       "  </thead>\n",
       "  <tbody>\n",
       "    <tr>\n",
       "      <th>0</th>\n",
       "      <td>2016-01-28</td>\n",
       "      <td>Plástico</td>\n",
       "      <td>326</td>\n",
       "      <td>Plásticos</td>\n",
       "      <td>Recuperar</td>\n",
       "      <td>NaN</td>\n",
       "    </tr>\n",
       "    <tr>\n",
       "      <th>1</th>\n",
       "      <td>2016-01-28</td>\n",
       "      <td>Vidrio</td>\n",
       "      <td>1072</td>\n",
       "      <td>Vidrios</td>\n",
       "      <td>Recuperar</td>\n",
       "      <td>NaN</td>\n",
       "    </tr>\n",
       "    <tr>\n",
       "      <th>2</th>\n",
       "      <td>2016-01-28</td>\n",
       "      <td>Chatarra</td>\n",
       "      <td>3230</td>\n",
       "      <td>Metales</td>\n",
       "      <td>Recuperar</td>\n",
       "      <td>NaN</td>\n",
       "    </tr>\n",
       "    <tr>\n",
       "      <th>3</th>\n",
       "      <td>2016-01-28</td>\n",
       "      <td>Cartón</td>\n",
       "      <td>858</td>\n",
       "      <td>Papeles y Cartones</td>\n",
       "      <td>Recuperar</td>\n",
       "      <td>NaN</td>\n",
       "    </tr>\n",
       "    <tr>\n",
       "      <th>4</th>\n",
       "      <td>2016-01-28</td>\n",
       "      <td>Periódico</td>\n",
       "      <td>372</td>\n",
       "      <td>Papeles y Cartones</td>\n",
       "      <td>Recuperar</td>\n",
       "      <td>NaN</td>\n",
       "    </tr>\n",
       "  </tbody>\n",
       "</table>\n",
       "</div>"
      ],
      "text/plain": [
       "        Fecha Nombre_Material Cantidad_kg    Nombre_Categoria  \\\n",
       "0  2016-01-28        Plástico         326           Plásticos   \n",
       "1  2016-01-28          Vidrio        1072             Vidrios   \n",
       "2  2016-01-28        Chatarra        3230             Metales   \n",
       "3  2016-01-28          Cartón         858  Papeles y Cartones   \n",
       "4  2016-01-28       Periódico         372  Papeles y Cartones   \n",
       "\n",
       "  Operador_logistíco Sede  \n",
       "0          Recuperar  NaN  \n",
       "1          Recuperar  NaN  \n",
       "2          Recuperar  NaN  \n",
       "3          Recuperar  NaN  \n",
       "4          Recuperar  NaN  "
      ]
     },
     "execution_count": 7,
     "metadata": {},
     "output_type": "execute_result"
    }
   ],
   "source": [
    "dani = pd.read_csv('Data/Base_datos_Daniel.csv')\n",
    "\n",
    "dani.head()"
   ]
  },
  {
   "cell_type": "code",
   "execution_count": 8,
   "id": "ce24c250-3884-4054-9957-4bdb2200afbc",
   "metadata": {},
   "outputs": [
    {
     "data": {
      "text/html": [
       "<div>\n",
       "<style scoped>\n",
       "    .dataframe tbody tr th:only-of-type {\n",
       "        vertical-align: middle;\n",
       "    }\n",
       "\n",
       "    .dataframe tbody tr th {\n",
       "        vertical-align: top;\n",
       "    }\n",
       "\n",
       "    .dataframe thead th {\n",
       "        text-align: right;\n",
       "    }\n",
       "</style>\n",
       "<table border=\"1\" class=\"dataframe\">\n",
       "  <thead>\n",
       "    <tr style=\"text-align: right;\">\n",
       "      <th></th>\n",
       "      <th>Fecha</th>\n",
       "      <th>Nombre_Material</th>\n",
       "      <th>Cantidad_kg</th>\n",
       "      <th>Nombre_Categoria</th>\n",
       "      <th>Operador_logistíco</th>\n",
       "      <th>Sede</th>\n",
       "    </tr>\n",
       "  </thead>\n",
       "  <tbody>\n",
       "    <tr>\n",
       "      <th>0</th>\n",
       "      <td>2016-01-28</td>\n",
       "      <td>Plástico</td>\n",
       "      <td>326</td>\n",
       "      <td>Plásticos</td>\n",
       "      <td>Recuperar</td>\n",
       "      <td>NaN</td>\n",
       "    </tr>\n",
       "    <tr>\n",
       "      <th>11</th>\n",
       "      <td>2016-01-28</td>\n",
       "      <td>Aluminio</td>\n",
       "      <td>24</td>\n",
       "      <td>Metales</td>\n",
       "      <td>Recuperar</td>\n",
       "      <td>NaN</td>\n",
       "    </tr>\n",
       "    <tr>\n",
       "      <th>10</th>\n",
       "      <td>2016-01-28</td>\n",
       "      <td>Palos de Escoba</td>\n",
       "      <td>0</td>\n",
       "      <td>Otros</td>\n",
       "      <td>Recuperar</td>\n",
       "      <td>NaN</td>\n",
       "    </tr>\n",
       "    <tr>\n",
       "      <th>9</th>\n",
       "      <td>2016-01-28</td>\n",
       "      <td>Plega</td>\n",
       "      <td>114</td>\n",
       "      <td>Papeles y Cartones</td>\n",
       "      <td>Recuperar</td>\n",
       "      <td>NaN</td>\n",
       "    </tr>\n",
       "    <tr>\n",
       "      <th>7</th>\n",
       "      <td>2016-01-28</td>\n",
       "      <td>Plega</td>\n",
       "      <td>48</td>\n",
       "      <td>Plásticos</td>\n",
       "      <td>Recuperar</td>\n",
       "      <td>NaN</td>\n",
       "    </tr>\n",
       "  </tbody>\n",
       "</table>\n",
       "</div>"
      ],
      "text/plain": [
       "         Fecha  Nombre_Material Cantidad_kg    Nombre_Categoria  \\\n",
       "0   2016-01-28         Plástico         326           Plásticos   \n",
       "11  2016-01-28         Aluminio          24             Metales   \n",
       "10  2016-01-28  Palos de Escoba           0               Otros   \n",
       "9   2016-01-28            Plega         114  Papeles y Cartones   \n",
       "7   2016-01-28            Plega          48           Plásticos   \n",
       "\n",
       "   Operador_logistíco Sede  \n",
       "0           Recuperar  NaN  \n",
       "11          Recuperar  NaN  \n",
       "10          Recuperar  NaN  \n",
       "9           Recuperar  NaN  \n",
       "7           Recuperar  NaN  "
      ]
     },
     "execution_count": 8,
     "metadata": {},
     "output_type": "execute_result"
    }
   ],
   "source": [
    "dani = dani.sort_values(\n",
    "    by='Fecha'\n",
    ")\n",
    "\n",
    "dani.head()"
   ]
  },
  {
   "cell_type": "code",
   "execution_count": 27,
   "id": "32108309-b31a-4751-a441-ad882828d6ac",
   "metadata": {},
   "outputs": [],
   "source": [
    "def checkSimilar(lista, listb):\n",
    "    for i in range(0, len(listb), 1):\n",
    "        zero = 0\n",
    "        if lista != listb[i]:\n",
    "            for j in range(0, len(lista), 1):\n",
    "                if (lista[j] == listb[i][j]):\n",
    "                    zero += 1\n",
    "    return zero >= len(lista) -1"
   ]
  },
  {
   "cell_type": "code",
   "execution_count": 26,
   "id": "79e28f12-b467-4843-8b58-dc762b4abfc0",
   "metadata": {},
   "outputs": [
    {
     "name": "stdout",
     "output_type": "stream",
     "text": [
      "['2022-06-28', 'Aluminio', '0,00', 'Metales', 'Recimed', 'Volador']\n",
      "['2022-06-28', 'Aluminio', '0,00', 'Metales', 'Recimed', 'Volador']\n",
      "['2022-07-28', 'Aluminio', '0,00', 'Metales', 'Recimed', 'Robledo']\n",
      "['2022-07-28', 'PVC', '0,00', 'Otros', 'Recimed', 'Robledo']\n",
      "['2022-07-28', 'Palos de Escoba', '0,00', 'Otros', 'Recimed', 'Volador']\n",
      "['2022-08-28', 'Aluminio', '27,40', 'Metales', 'Recimed', 'Volador']\n",
      "['2022-08-28', 'Aluminio', '10,80', 'Metales', 'Recimed', 'Volador']\n"
     ]
    }
   ],
   "source": [
    "matrix = list()\n",
    "\n",
    "for i in range(0, dani['Fecha'].count(), 1):\n",
    "    if len(matrix) == 0:\n",
    "        matrix.append(list(dani.iloc[i]))\n",
    "    else:\n",
    "        if checkSimilar(list(dani.iloc[i]), matrix):\n",
    "            print(list(dani.iloc[i]))            \n",
    "        else:\n",
    "            matrix.append(list(dani.iloc[i]))\n"
   ]
  },
  {
   "cell_type": "code",
   "execution_count": null,
   "id": "e3982ff3-8374-4b8f-a5cf-a39f2ca149bc",
   "metadata": {},
   "outputs": [],
   "source": []
  },
  {
   "cell_type": "code",
   "execution_count": null,
   "id": "40b0bed4-6279-450d-bf5b-d9a67e76bafa",
   "metadata": {},
   "outputs": [],
   "source": []
  },
  {
   "cell_type": "code",
   "execution_count": null,
   "id": "9a83e42b-f971-4caf-a3ae-caed64e26ca9",
   "metadata": {},
   "outputs": [],
   "source": []
  },
  {
   "cell_type": "code",
   "execution_count": 6,
   "id": "64fac41f-286d-4060-95a3-a273ae23d682",
   "metadata": {},
   "outputs": [],
   "source": [
    "dani.to_csv('Data/Base_datos_Daniel.csv', index=False)"
   ]
  },
  {
   "cell_type": "code",
   "execution_count": null,
   "id": "347577bb-11fd-44a3-a162-9ca342805aee",
   "metadata": {},
   "outputs": [],
   "source": []
  }
 ],
 "metadata": {
  "kernelspec": {
   "display_name": "Python 3 (ipykernel)",
   "language": "python",
   "name": "python3"
  },
  "language_info": {
   "codemirror_mode": {
    "name": "ipython",
    "version": 3
   },
   "file_extension": ".py",
   "mimetype": "text/x-python",
   "name": "python",
   "nbconvert_exporter": "python",
   "pygments_lexer": "ipython3",
   "version": "3.10.10"
  }
 },
 "nbformat": 4,
 "nbformat_minor": 5
}
