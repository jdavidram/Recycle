{
 "cells": [
  {
   "cell_type": "code",
   "execution_count": 1,
   "id": "9223bfde-cf86-4dc4-b4e1-b93a22c83f1b",
   "metadata": {},
   "outputs": [],
   "source": [
    "import numpy as np\n",
    "import pandas as pd\n",
    "import datetime as dt"
   ]
  },
  {
   "cell_type": "code",
   "execution_count": 2,
   "id": "69beb7e6-fa9f-4671-ae49-438160c4a310",
   "metadata": {},
   "outputs": [
    {
     "data": {
      "text/html": [
       "<div>\n",
       "<style scoped>\n",
       "    .dataframe tbody tr th:only-of-type {\n",
       "        vertical-align: middle;\n",
       "    }\n",
       "\n",
       "    .dataframe tbody tr th {\n",
       "        vertical-align: top;\n",
       "    }\n",
       "\n",
       "    .dataframe thead th {\n",
       "        text-align: right;\n",
       "    }\n",
       "</style>\n",
       "<table border=\"1\" class=\"dataframe\">\n",
       "  <thead>\n",
       "    <tr style=\"text-align: right;\">\n",
       "      <th></th>\n",
       "      <th>Fecha</th>\n",
       "      <th>Nombre_Material</th>\n",
       "      <th>Cantidad_kg</th>\n",
       "      <th>Nombre_Categoria</th>\n",
       "      <th>Operador_logistíco</th>\n",
       "      <th>Sede</th>\n",
       "    </tr>\n",
       "  </thead>\n",
       "  <tbody>\n",
       "    <tr>\n",
       "      <th>0</th>\n",
       "      <td>2016-01-28</td>\n",
       "      <td>Plástico</td>\n",
       "      <td>326</td>\n",
       "      <td>Plásticos</td>\n",
       "      <td>Recuperar</td>\n",
       "      <td>NaN</td>\n",
       "    </tr>\n",
       "    <tr>\n",
       "      <th>1</th>\n",
       "      <td>2016-01-28</td>\n",
       "      <td>Vidrio</td>\n",
       "      <td>1072</td>\n",
       "      <td>Vidrios</td>\n",
       "      <td>Recuperar</td>\n",
       "      <td>NaN</td>\n",
       "    </tr>\n",
       "    <tr>\n",
       "      <th>2</th>\n",
       "      <td>2016-01-28</td>\n",
       "      <td>Chatarra</td>\n",
       "      <td>3230</td>\n",
       "      <td>Metales</td>\n",
       "      <td>Recuperar</td>\n",
       "      <td>NaN</td>\n",
       "    </tr>\n",
       "    <tr>\n",
       "      <th>3</th>\n",
       "      <td>2016-01-28</td>\n",
       "      <td>Cartón</td>\n",
       "      <td>858</td>\n",
       "      <td>Papeles y Cartones</td>\n",
       "      <td>Recuperar</td>\n",
       "      <td>NaN</td>\n",
       "    </tr>\n",
       "    <tr>\n",
       "      <th>4</th>\n",
       "      <td>2016-01-28</td>\n",
       "      <td>Periódico</td>\n",
       "      <td>372</td>\n",
       "      <td>Papeles y Cartones</td>\n",
       "      <td>Recuperar</td>\n",
       "      <td>NaN</td>\n",
       "    </tr>\n",
       "  </tbody>\n",
       "</table>\n",
       "</div>"
      ],
      "text/plain": [
       "        Fecha Nombre_Material Cantidad_kg    Nombre_Categoria  \\\n",
       "0  2016-01-28        Plástico         326           Plásticos   \n",
       "1  2016-01-28          Vidrio        1072             Vidrios   \n",
       "2  2016-01-28        Chatarra        3230             Metales   \n",
       "3  2016-01-28          Cartón         858  Papeles y Cartones   \n",
       "4  2016-01-28       Periódico         372  Papeles y Cartones   \n",
       "\n",
       "  Operador_logistíco Sede  \n",
       "0          Recuperar  NaN  \n",
       "1          Recuperar  NaN  \n",
       "2          Recuperar  NaN  \n",
       "3          Recuperar  NaN  \n",
       "4          Recuperar  NaN  "
      ]
     },
     "execution_count": 2,
     "metadata": {},
     "output_type": "execute_result"
    }
   ],
   "source": [
    "dani = pd.read_csv('Data/Base_datos_Daniel.csv')\n",
    "\n",
    "dani.head()"
   ]
  },
  {
   "cell_type": "code",
   "execution_count": 3,
   "id": "ce24c250-3884-4054-9957-4bdb2200afbc",
   "metadata": {},
   "outputs": [
    {
     "data": {
      "text/html": [
       "<div>\n",
       "<style scoped>\n",
       "    .dataframe tbody tr th:only-of-type {\n",
       "        vertical-align: middle;\n",
       "    }\n",
       "\n",
       "    .dataframe tbody tr th {\n",
       "        vertical-align: top;\n",
       "    }\n",
       "\n",
       "    .dataframe thead th {\n",
       "        text-align: right;\n",
       "    }\n",
       "</style>\n",
       "<table border=\"1\" class=\"dataframe\">\n",
       "  <thead>\n",
       "    <tr style=\"text-align: right;\">\n",
       "      <th></th>\n",
       "      <th>Fecha</th>\n",
       "      <th>Nombre_Material</th>\n",
       "      <th>Cantidad_kg</th>\n",
       "      <th>Nombre_Categoria</th>\n",
       "      <th>Operador_logistíco</th>\n",
       "      <th>Sede</th>\n",
       "    </tr>\n",
       "  </thead>\n",
       "  <tbody>\n",
       "    <tr>\n",
       "      <th>0</th>\n",
       "      <td>2016-01-28</td>\n",
       "      <td>Plástico</td>\n",
       "      <td>326</td>\n",
       "      <td>Plásticos</td>\n",
       "      <td>Recuperar</td>\n",
       "      <td>NaN</td>\n",
       "    </tr>\n",
       "    <tr>\n",
       "      <th>11</th>\n",
       "      <td>2016-01-28</td>\n",
       "      <td>Aluminio</td>\n",
       "      <td>24</td>\n",
       "      <td>Metales</td>\n",
       "      <td>Recuperar</td>\n",
       "      <td>NaN</td>\n",
       "    </tr>\n",
       "    <tr>\n",
       "      <th>10</th>\n",
       "      <td>2016-01-28</td>\n",
       "      <td>Palos de Escoba</td>\n",
       "      <td>0</td>\n",
       "      <td>Otros</td>\n",
       "      <td>Recuperar</td>\n",
       "      <td>NaN</td>\n",
       "    </tr>\n",
       "    <tr>\n",
       "      <th>9</th>\n",
       "      <td>2016-01-28</td>\n",
       "      <td>Plega</td>\n",
       "      <td>114</td>\n",
       "      <td>Papeles y Cartones</td>\n",
       "      <td>Recuperar</td>\n",
       "      <td>NaN</td>\n",
       "    </tr>\n",
       "    <tr>\n",
       "      <th>7</th>\n",
       "      <td>2016-01-28</td>\n",
       "      <td>Plega</td>\n",
       "      <td>48</td>\n",
       "      <td>Plásticos</td>\n",
       "      <td>Recuperar</td>\n",
       "      <td>NaN</td>\n",
       "    </tr>\n",
       "  </tbody>\n",
       "</table>\n",
       "</div>"
      ],
      "text/plain": [
       "         Fecha  Nombre_Material Cantidad_kg    Nombre_Categoria  \\\n",
       "0   2016-01-28         Plástico         326           Plásticos   \n",
       "11  2016-01-28         Aluminio          24             Metales   \n",
       "10  2016-01-28  Palos de Escoba           0               Otros   \n",
       "9   2016-01-28            Plega         114  Papeles y Cartones   \n",
       "7   2016-01-28            Plega          48           Plásticos   \n",
       "\n",
       "   Operador_logistíco Sede  \n",
       "0           Recuperar  NaN  \n",
       "11          Recuperar  NaN  \n",
       "10          Recuperar  NaN  \n",
       "9           Recuperar  NaN  \n",
       "7           Recuperar  NaN  "
      ]
     },
     "execution_count": 3,
     "metadata": {},
     "output_type": "execute_result"
    }
   ],
   "source": [
    "dani = dani.sort_values(\n",
    "    by='Fecha'\n",
    ")\n",
    "\n",
    "dani.head()"
   ]
  },
  {
   "cell_type": "code",
   "execution_count": 6,
   "id": "79e28f12-b467-4843-8b58-dc762b4abfc0",
   "metadata": {},
   "outputs": [
    {
     "ename": "AttributeError",
     "evalue": "'numpy.int64' object has no attribute 'rename'",
     "output_type": "error",
     "traceback": [
      "\u001b[0;31m---------------------------------------------------------------------------\u001b[0m",
      "\u001b[0;31mAttributeError\u001b[0m                            Traceback (most recent call last)",
      "Cell \u001b[0;32mIn[6], line 1\u001b[0m\n\u001b[0;32m----> 1\u001b[0m k \u001b[38;5;241m=\u001b[39m \u001b[43mdani\u001b[49m\u001b[38;5;241;43m.\u001b[39;49m\u001b[43mgroupby\u001b[49m\u001b[43m(\u001b[49m\u001b[43m[\u001b[49m\u001b[38;5;124;43m'\u001b[39;49m\u001b[38;5;124;43mFecha\u001b[39;49m\u001b[38;5;124;43m'\u001b[39;49m\u001b[43m,\u001b[49m\u001b[43m \u001b[49m\u001b[38;5;124;43m'\u001b[39;49m\u001b[38;5;124;43mNombre_Material\u001b[39;49m\u001b[38;5;124;43m'\u001b[39;49m\u001b[43m,\u001b[49m\u001b[43m \u001b[49m\u001b[38;5;124;43m'\u001b[39;49m\u001b[38;5;124;43mNombre_Categoria\u001b[39;49m\u001b[38;5;124;43m'\u001b[39;49m\u001b[43m,\u001b[49m\u001b[43m \u001b[49m\u001b[38;5;124;43m'\u001b[39;49m\u001b[38;5;124;43mOperador_logistíco\u001b[39;49m\u001b[38;5;124;43m'\u001b[39;49m\u001b[43m,\u001b[49m\u001b[38;5;124;43m'\u001b[39;49m\u001b[38;5;124;43mSede\u001b[39;49m\u001b[38;5;124;43m'\u001b[39;49m\u001b[43m]\u001b[49m\u001b[43m)\u001b[49m\u001b[38;5;241;43m.\u001b[39;49m\u001b[43mapply\u001b[49m\u001b[43m(\u001b[49m\u001b[38;5;28;43;01mlambda\u001b[39;49;00m\u001b[43m \u001b[49m\u001b[43mx\u001b[49m\u001b[43m:\u001b[49m\u001b[43m \u001b[49m\u001b[43mx\u001b[49m\u001b[38;5;241;43m.\u001b[39;49m\u001b[43mduplicated\u001b[49m\u001b[43m(\u001b[49m\u001b[43mkeep\u001b[49m\u001b[43m \u001b[49m\u001b[38;5;241;43m=\u001b[39;49m\u001b[43m \u001b[49m\u001b[38;5;28;43;01mFalse\u001b[39;49;00m\u001b[43m)\u001b[49m\u001b[43m)\u001b[49m\u001b[38;5;241;43m.\u001b[39;49m\u001b[43msum\u001b[49m\u001b[43m(\u001b[49m\u001b[43m)\u001b[49m\u001b[38;5;241;43m.\u001b[39;49m\u001b[43mrename\u001b[49m(\u001b[38;5;124m'\u001b[39m\u001b[38;5;124mCantidad_kg\u001b[39m\u001b[38;5;124m'\u001b[39m)\u001b[38;5;241m.\u001b[39mreset_index()\n\u001b[1;32m      3\u001b[0m k\n",
      "\u001b[0;31mAttributeError\u001b[0m: 'numpy.int64' object has no attribute 'rename'"
     ]
    }
   ],
   "source": [
    "k = dani.groupby(['Fecha', 'Nombre_Material', 'Nombre_Categoria', 'Operador_logistíco','Sede']).apply(lambda x: x.duplicated(keep = False)).sum().rename('Cantidad_kg').reset_index()\n",
    "\n",
    "k"
   ]
  },
  {
   "cell_type": "code",
   "execution_count": null,
   "id": "e3982ff3-8374-4b8f-a5cf-a39f2ca149bc",
   "metadata": {},
   "outputs": [],
   "source": []
  },
  {
   "cell_type": "code",
   "execution_count": null,
   "id": "40b0bed4-6279-450d-bf5b-d9a67e76bafa",
   "metadata": {},
   "outputs": [],
   "source": []
  },
  {
   "cell_type": "code",
   "execution_count": null,
   "id": "9a83e42b-f971-4caf-a3ae-caed64e26ca9",
   "metadata": {},
   "outputs": [],
   "source": []
  },
  {
   "cell_type": "code",
   "execution_count": 6,
   "id": "64fac41f-286d-4060-95a3-a273ae23d682",
   "metadata": {},
   "outputs": [],
   "source": [
    "dani.to_csv('Data/Base_datos_Daniel.csv', index=False)"
   ]
  },
  {
   "cell_type": "code",
   "execution_count": null,
   "id": "347577bb-11fd-44a3-a162-9ca342805aee",
   "metadata": {},
   "outputs": [],
   "source": []
  }
 ],
 "metadata": {
  "kernelspec": {
   "display_name": "Python 3 (ipykernel)",
   "language": "python",
   "name": "python3"
  },
  "language_info": {
   "codemirror_mode": {
    "name": "ipython",
    "version": 3
   },
   "file_extension": ".py",
   "mimetype": "text/x-python",
   "name": "python",
   "nbconvert_exporter": "python",
   "pygments_lexer": "ipython3",
   "version": "3.10.10"
  }
 },
 "nbformat": 4,
 "nbformat_minor": 5
}
