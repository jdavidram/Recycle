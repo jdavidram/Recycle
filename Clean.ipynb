{
 "cells": [
  {
   "cell_type": "code",
   "execution_count": 1,
   "id": "9223bfde-cf86-4dc4-b4e1-b93a22c83f1b",
   "metadata": {},
   "outputs": [],
   "source": [
    "import numpy as np\n",
    "import pandas as pd\n",
    "import datetime as dt"
   ]
  },
  {
   "cell_type": "code",
   "execution_count": 2,
   "id": "69beb7e6-fa9f-4671-ae49-438160c4a310",
   "metadata": {},
   "outputs": [
    {
     "data": {
      "text/html": [
       "<div>\n",
       "<style scoped>\n",
       "    .dataframe tbody tr th:only-of-type {\n",
       "        vertical-align: middle;\n",
       "    }\n",
       "\n",
       "    .dataframe tbody tr th {\n",
       "        vertical-align: top;\n",
       "    }\n",
       "\n",
       "    .dataframe thead th {\n",
       "        text-align: right;\n",
       "    }\n",
       "</style>\n",
       "<table border=\"1\" class=\"dataframe\">\n",
       "  <thead>\n",
       "    <tr style=\"text-align: right;\">\n",
       "      <th></th>\n",
       "      <th>Fecha</th>\n",
       "      <th>Nombre_Material</th>\n",
       "      <th>Cantidad_kg</th>\n",
       "      <th>Nombre_Categoria</th>\n",
       "      <th>Operador_logistíco</th>\n",
       "      <th>Sede</th>\n",
       "    </tr>\n",
       "  </thead>\n",
       "  <tbody>\n",
       "    <tr>\n",
       "      <th>0</th>\n",
       "      <td>2016-01-28</td>\n",
       "      <td>Plástico</td>\n",
       "      <td>326</td>\n",
       "      <td>Plásticos</td>\n",
       "      <td>Recuperar</td>\n",
       "      <td>NaN</td>\n",
       "    </tr>\n",
       "    <tr>\n",
       "      <th>1</th>\n",
       "      <td>2016-01-28</td>\n",
       "      <td>Aluminio</td>\n",
       "      <td>24</td>\n",
       "      <td>Metales</td>\n",
       "      <td>Recuperar</td>\n",
       "      <td>NaN</td>\n",
       "    </tr>\n",
       "    <tr>\n",
       "      <th>2</th>\n",
       "      <td>2016-01-28</td>\n",
       "      <td>Palos de Escoba</td>\n",
       "      <td>0</td>\n",
       "      <td>Otros</td>\n",
       "      <td>Recuperar</td>\n",
       "      <td>NaN</td>\n",
       "    </tr>\n",
       "    <tr>\n",
       "      <th>3</th>\n",
       "      <td>2016-01-28</td>\n",
       "      <td>Plega</td>\n",
       "      <td>114</td>\n",
       "      <td>Papeles y Cartones</td>\n",
       "      <td>Recuperar</td>\n",
       "      <td>NaN</td>\n",
       "    </tr>\n",
       "    <tr>\n",
       "      <th>4</th>\n",
       "      <td>2016-01-28</td>\n",
       "      <td>Plega</td>\n",
       "      <td>48</td>\n",
       "      <td>Plásticos</td>\n",
       "      <td>Recuperar</td>\n",
       "      <td>NaN</td>\n",
       "    </tr>\n",
       "  </tbody>\n",
       "</table>\n",
       "</div>"
      ],
      "text/plain": [
       "        Fecha  Nombre_Material Cantidad_kg    Nombre_Categoria  \\\n",
       "0  2016-01-28         Plástico         326           Plásticos   \n",
       "1  2016-01-28         Aluminio          24             Metales   \n",
       "2  2016-01-28  Palos de Escoba           0               Otros   \n",
       "3  2016-01-28            Plega         114  Papeles y Cartones   \n",
       "4  2016-01-28            Plega          48           Plásticos   \n",
       "\n",
       "  Operador_logistíco Sede  \n",
       "0          Recuperar  NaN  \n",
       "1          Recuperar  NaN  \n",
       "2          Recuperar  NaN  \n",
       "3          Recuperar  NaN  \n",
       "4          Recuperar  NaN  "
      ]
     },
     "execution_count": 2,
     "metadata": {},
     "output_type": "execute_result"
    }
   ],
   "source": [
    "dani = pd.read_csv('Data/Base_datos_Daniel.csv')\n",
    "\n",
    "dani.head()"
   ]
  },
  {
   "cell_type": "code",
   "execution_count": 3,
   "id": "ce24c250-3884-4054-9957-4bdb2200afbc",
   "metadata": {},
   "outputs": [
    {
     "data": {
      "text/html": [
       "<div>\n",
       "<style scoped>\n",
       "    .dataframe tbody tr th:only-of-type {\n",
       "        vertical-align: middle;\n",
       "    }\n",
       "\n",
       "    .dataframe tbody tr th {\n",
       "        vertical-align: top;\n",
       "    }\n",
       "\n",
       "    .dataframe thead th {\n",
       "        text-align: right;\n",
       "    }\n",
       "</style>\n",
       "<table border=\"1\" class=\"dataframe\">\n",
       "  <thead>\n",
       "    <tr style=\"text-align: right;\">\n",
       "      <th></th>\n",
       "      <th>Fecha</th>\n",
       "      <th>Nombre_Material</th>\n",
       "      <th>Cantidad_kg</th>\n",
       "      <th>Nombre_Categoria</th>\n",
       "      <th>Operador_logistíco</th>\n",
       "      <th>Sede</th>\n",
       "    </tr>\n",
       "  </thead>\n",
       "  <tbody>\n",
       "    <tr>\n",
       "      <th>0</th>\n",
       "      <td>2016-01-28</td>\n",
       "      <td>Plástico</td>\n",
       "      <td>326</td>\n",
       "      <td>Plásticos</td>\n",
       "      <td>Recuperar</td>\n",
       "      <td>NaN</td>\n",
       "    </tr>\n",
       "    <tr>\n",
       "      <th>11</th>\n",
       "      <td>2016-01-28</td>\n",
       "      <td>Pasta</td>\n",
       "      <td>529</td>\n",
       "      <td>Plásticos</td>\n",
       "      <td>Recuperar</td>\n",
       "      <td>NaN</td>\n",
       "    </tr>\n",
       "    <tr>\n",
       "      <th>10</th>\n",
       "      <td>2016-01-28</td>\n",
       "      <td>Vidrio</td>\n",
       "      <td>1072</td>\n",
       "      <td>Vidrios</td>\n",
       "      <td>Recuperar</td>\n",
       "      <td>NaN</td>\n",
       "    </tr>\n",
       "    <tr>\n",
       "      <th>9</th>\n",
       "      <td>2016-01-28</td>\n",
       "      <td>Chatarra</td>\n",
       "      <td>3230</td>\n",
       "      <td>Metales</td>\n",
       "      <td>Recuperar</td>\n",
       "      <td>NaN</td>\n",
       "    </tr>\n",
       "    <tr>\n",
       "      <th>7</th>\n",
       "      <td>2016-01-28</td>\n",
       "      <td>Periódico</td>\n",
       "      <td>372</td>\n",
       "      <td>Papeles y Cartones</td>\n",
       "      <td>Recuperar</td>\n",
       "      <td>NaN</td>\n",
       "    </tr>\n",
       "  </tbody>\n",
       "</table>\n",
       "</div>"
      ],
      "text/plain": [
       "         Fecha Nombre_Material Cantidad_kg    Nombre_Categoria  \\\n",
       "0   2016-01-28        Plástico         326           Plásticos   \n",
       "11  2016-01-28           Pasta         529           Plásticos   \n",
       "10  2016-01-28          Vidrio        1072             Vidrios   \n",
       "9   2016-01-28        Chatarra        3230             Metales   \n",
       "7   2016-01-28       Periódico         372  Papeles y Cartones   \n",
       "\n",
       "   Operador_logistíco Sede  \n",
       "0           Recuperar  NaN  \n",
       "11          Recuperar  NaN  \n",
       "10          Recuperar  NaN  \n",
       "9           Recuperar  NaN  \n",
       "7           Recuperar  NaN  "
      ]
     },
     "execution_count": 3,
     "metadata": {},
     "output_type": "execute_result"
    }
   ],
   "source": [
    "dani = dani.sort_values(\n",
    "    by='Fecha'\n",
    ")\n",
    "\n",
    "dani.head()"
   ]
  },
  {
   "cell_type": "code",
   "execution_count": 7,
   "id": "30acb323-3ee1-4829-80c5-3fb33a8bb43b",
   "metadata": {},
   "outputs": [
    {
     "ename": "KeyError",
     "evalue": "'Operador_logistico'",
     "output_type": "error",
     "traceback": [
      "\u001b[0;31m---------------------------------------------------------------------------\u001b[0m",
      "\u001b[0;31mKeyError\u001b[0m                                  Traceback (most recent call last)",
      "File \u001b[0;32m~/anaconda3/lib/python3.10/site-packages/pandas/core/indexes/base.py:3802\u001b[0m, in \u001b[0;36mIndex.get_loc\u001b[0;34m(self, key, method, tolerance)\u001b[0m\n\u001b[1;32m   3801\u001b[0m \u001b[38;5;28;01mtry\u001b[39;00m:\n\u001b[0;32m-> 3802\u001b[0m     \u001b[38;5;28;01mreturn\u001b[39;00m \u001b[38;5;28;43mself\u001b[39;49m\u001b[38;5;241;43m.\u001b[39;49m\u001b[43m_engine\u001b[49m\u001b[38;5;241;43m.\u001b[39;49m\u001b[43mget_loc\u001b[49m\u001b[43m(\u001b[49m\u001b[43mcasted_key\u001b[49m\u001b[43m)\u001b[49m\n\u001b[1;32m   3803\u001b[0m \u001b[38;5;28;01mexcept\u001b[39;00m \u001b[38;5;167;01mKeyError\u001b[39;00m \u001b[38;5;28;01mas\u001b[39;00m err:\n",
      "File \u001b[0;32m~/anaconda3/lib/python3.10/site-packages/pandas/_libs/index.pyx:138\u001b[0m, in \u001b[0;36mpandas._libs.index.IndexEngine.get_loc\u001b[0;34m()\u001b[0m\n",
      "File \u001b[0;32m~/anaconda3/lib/python3.10/site-packages/pandas/_libs/index.pyx:165\u001b[0m, in \u001b[0;36mpandas._libs.index.IndexEngine.get_loc\u001b[0;34m()\u001b[0m\n",
      "File \u001b[0;32mpandas/_libs/hashtable_class_helper.pxi:5745\u001b[0m, in \u001b[0;36mpandas._libs.hashtable.PyObjectHashTable.get_item\u001b[0;34m()\u001b[0m\n",
      "File \u001b[0;32mpandas/_libs/hashtable_class_helper.pxi:5753\u001b[0m, in \u001b[0;36mpandas._libs.hashtable.PyObjectHashTable.get_item\u001b[0;34m()\u001b[0m\n",
      "\u001b[0;31mKeyError\u001b[0m: 'Operador_logistico'",
      "\nThe above exception was the direct cause of the following exception:\n",
      "\u001b[0;31mKeyError\u001b[0m                                  Traceback (most recent call last)",
      "Cell \u001b[0;32mIn[7], line 4\u001b[0m\n\u001b[1;32m      1\u001b[0m lista \u001b[38;5;241m=\u001b[39m \u001b[38;5;28mlist\u001b[39m()\n\u001b[1;32m      3\u001b[0m \u001b[38;5;28;01mfor\u001b[39;00m j \u001b[38;5;129;01min\u001b[39;00m \u001b[38;5;28mrange\u001b[39m(\u001b[38;5;241m0\u001b[39m, dani[\u001b[38;5;124m'\u001b[39m\u001b[38;5;124mFecha\u001b[39m\u001b[38;5;124m'\u001b[39m]\u001b[38;5;241m.\u001b[39mcount(), \u001b[38;5;241m1\u001b[39m):\n\u001b[0;32m----> 4\u001b[0m     lista\u001b[38;5;241m.\u001b[39mappend([dani[\u001b[38;5;124m'\u001b[39m\u001b[38;5;124mFecha\u001b[39m\u001b[38;5;124m'\u001b[39m][j], dani[\u001b[38;5;124m'\u001b[39m\u001b[38;5;124mNombre_Material\u001b[39m\u001b[38;5;124m'\u001b[39m][j], dani[\u001b[38;5;124m'\u001b[39m\u001b[38;5;124mNombre_Categoria\u001b[39m\u001b[38;5;124m'\u001b[39m][j], \u001b[43mdani\u001b[49m\u001b[43m[\u001b[49m\u001b[38;5;124;43m'\u001b[39;49m\u001b[38;5;124;43mOperador_logistico\u001b[39;49m\u001b[38;5;124;43m'\u001b[39;49m\u001b[43m]\u001b[49m[j], dani[\u001b[38;5;124m'\u001b[39m\u001b[38;5;124mSede\u001b[39m\u001b[38;5;124m'\u001b[39m][j]])\n\u001b[1;32m      6\u001b[0m \u001b[38;5;28mprint\u001b[39m(lista)\n",
      "File \u001b[0;32m~/anaconda3/lib/python3.10/site-packages/pandas/core/frame.py:3807\u001b[0m, in \u001b[0;36mDataFrame.__getitem__\u001b[0;34m(self, key)\u001b[0m\n\u001b[1;32m   3805\u001b[0m \u001b[38;5;28;01mif\u001b[39;00m \u001b[38;5;28mself\u001b[39m\u001b[38;5;241m.\u001b[39mcolumns\u001b[38;5;241m.\u001b[39mnlevels \u001b[38;5;241m>\u001b[39m \u001b[38;5;241m1\u001b[39m:\n\u001b[1;32m   3806\u001b[0m     \u001b[38;5;28;01mreturn\u001b[39;00m \u001b[38;5;28mself\u001b[39m\u001b[38;5;241m.\u001b[39m_getitem_multilevel(key)\n\u001b[0;32m-> 3807\u001b[0m indexer \u001b[38;5;241m=\u001b[39m \u001b[38;5;28;43mself\u001b[39;49m\u001b[38;5;241;43m.\u001b[39;49m\u001b[43mcolumns\u001b[49m\u001b[38;5;241;43m.\u001b[39;49m\u001b[43mget_loc\u001b[49m\u001b[43m(\u001b[49m\u001b[43mkey\u001b[49m\u001b[43m)\u001b[49m\n\u001b[1;32m   3808\u001b[0m \u001b[38;5;28;01mif\u001b[39;00m is_integer(indexer):\n\u001b[1;32m   3809\u001b[0m     indexer \u001b[38;5;241m=\u001b[39m [indexer]\n",
      "File \u001b[0;32m~/anaconda3/lib/python3.10/site-packages/pandas/core/indexes/base.py:3804\u001b[0m, in \u001b[0;36mIndex.get_loc\u001b[0;34m(self, key, method, tolerance)\u001b[0m\n\u001b[1;32m   3802\u001b[0m     \u001b[38;5;28;01mreturn\u001b[39;00m \u001b[38;5;28mself\u001b[39m\u001b[38;5;241m.\u001b[39m_engine\u001b[38;5;241m.\u001b[39mget_loc(casted_key)\n\u001b[1;32m   3803\u001b[0m \u001b[38;5;28;01mexcept\u001b[39;00m \u001b[38;5;167;01mKeyError\u001b[39;00m \u001b[38;5;28;01mas\u001b[39;00m err:\n\u001b[0;32m-> 3804\u001b[0m     \u001b[38;5;28;01mraise\u001b[39;00m \u001b[38;5;167;01mKeyError\u001b[39;00m(key) \u001b[38;5;28;01mfrom\u001b[39;00m \u001b[38;5;21;01merr\u001b[39;00m\n\u001b[1;32m   3805\u001b[0m \u001b[38;5;28;01mexcept\u001b[39;00m \u001b[38;5;167;01mTypeError\u001b[39;00m:\n\u001b[1;32m   3806\u001b[0m     \u001b[38;5;66;03m# If we have a listlike key, _check_indexing_error will raise\u001b[39;00m\n\u001b[1;32m   3807\u001b[0m     \u001b[38;5;66;03m#  InvalidIndexError. Otherwise we fall through and re-raise\u001b[39;00m\n\u001b[1;32m   3808\u001b[0m     \u001b[38;5;66;03m#  the TypeError.\u001b[39;00m\n\u001b[1;32m   3809\u001b[0m     \u001b[38;5;28mself\u001b[39m\u001b[38;5;241m.\u001b[39m_check_indexing_error(key)\n",
      "\u001b[0;31mKeyError\u001b[0m: 'Operador_logistico'"
     ]
    }
   ],
   "source": [
    "lista = list()\n",
    "\n",
    "for j in range(0, dani['Fecha'].count(), 1):\n",
    "    lista.append([dani['Fecha'][j], dani['Nombre_Material'][j], dani['Nombre_Categoria'][j], dani['Operador_logistico'][j], dani['Sede'][j]])\n",
    "\n",
    "print(lista)"
   ]
  },
  {
   "cell_type": "code",
   "execution_count": 27,
   "id": "32108309-b31a-4751-a441-ad882828d6ac",
   "metadata": {},
   "outputs": [],
   "source": [
    "def checkSimilar(lista, listb):\n",
    "    for i in range(0, len(listb), 1):\n",
    "        zero = 0\n",
    "        if lista != listb[i]:\n",
    "            for j in range(0, len(lista), 1):\n",
    "                if (lista[j] == listb[i][j]):\n",
    "                    zero += 1\n",
    "    return zero >= len(lista) -1"
   ]
  },
  {
   "cell_type": "code",
   "execution_count": 26,
   "id": "79e28f12-b467-4843-8b58-dc762b4abfc0",
   "metadata": {},
   "outputs": [
    {
     "name": "stdout",
     "output_type": "stream",
     "text": [
      "['2022-06-28', 'Aluminio', '0,00', 'Metales', 'Recimed', 'Volador']\n",
      "['2022-06-28', 'Aluminio', '0,00', 'Metales', 'Recimed', 'Volador']\n",
      "['2022-07-28', 'Aluminio', '0,00', 'Metales', 'Recimed', 'Robledo']\n",
      "['2022-07-28', 'PVC', '0,00', 'Otros', 'Recimed', 'Robledo']\n",
      "['2022-07-28', 'Palos de Escoba', '0,00', 'Otros', 'Recimed', 'Volador']\n",
      "['2022-08-28', 'Aluminio', '27,40', 'Metales', 'Recimed', 'Volador']\n",
      "['2022-08-28', 'Aluminio', '10,80', 'Metales', 'Recimed', 'Volador']\n"
     ]
    }
   ],
   "source": [
    "matrix = list()\n",
    "\n",
    "for i in range(0, dani['Fecha'].count(), 1):\n",
    "    if len(matrix) == 0:\n",
    "        matrix.append(list(dani.iloc[i]))\n",
    "    else:\n",
    "        if checkSimilar(list(dani.iloc[i]), matrix):\n",
    "            print(list(dani.iloc[i]))            \n",
    "        else:\n",
    "            matrix.append(list(dani.iloc[i]))\n"
   ]
  },
  {
   "cell_type": "code",
   "execution_count": null,
   "id": "e3982ff3-8374-4b8f-a5cf-a39f2ca149bc",
   "metadata": {},
   "outputs": [],
   "source": []
  },
  {
   "cell_type": "code",
   "execution_count": null,
   "id": "40b0bed4-6279-450d-bf5b-d9a67e76bafa",
   "metadata": {},
   "outputs": [],
   "source": []
  },
  {
   "cell_type": "code",
   "execution_count": null,
   "id": "9a83e42b-f971-4caf-a3ae-caed64e26ca9",
   "metadata": {},
   "outputs": [],
   "source": []
  },
  {
   "cell_type": "code",
   "execution_count": 6,
   "id": "64fac41f-286d-4060-95a3-a273ae23d682",
   "metadata": {},
   "outputs": [],
   "source": [
    "dani.to_csv('Data/Base_datos_Daniel.csv', index=False)"
   ]
  },
  {
   "cell_type": "code",
   "execution_count": null,
   "id": "347577bb-11fd-44a3-a162-9ca342805aee",
   "metadata": {},
   "outputs": [],
   "source": []
  }
 ],
 "metadata": {
  "kernelspec": {
   "display_name": "Python 3 (ipykernel)",
   "language": "python",
   "name": "python3"
  },
  "language_info": {
   "codemirror_mode": {
    "name": "ipython",
    "version": 3
   },
   "file_extension": ".py",
   "mimetype": "text/x-python",
   "name": "python",
   "nbconvert_exporter": "python",
   "pygments_lexer": "ipython3",
   "version": "3.10.9"
  }
 },
 "nbformat": 4,
 "nbformat_minor": 5
}
